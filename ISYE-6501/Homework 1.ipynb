{
 "cells": [
  {
   "cell_type": "markdown",
   "metadata": {},
   "source": [
    "# James Bonifield"
   ]
  },
  {
   "cell_type": "markdown",
   "metadata": {},
   "source": [
    "<b>Question 2.1</b>\n",
    "\n",
    "<i>Describe a situation or problem from your job, \n",
    "everyday life, current events, etc., for which a \n",
    "classification model would be appropriate. List some (up to 5) predictors that you might use</i>\n",
    "____________________________________________________________________________________________________________\n",
    "\n",
    "\n",
    "Currently, I work as a technical consultant for a small software company that chiefly works on software used by telecom companies. In this capacity I am currently working on a way for carriers in our system to validate closeout packages sent by contractors (basically a series of photos and data about a construction site) analytically so that both sides know more quickly if a picture of a job site needs to be retaken or is insufficent. Some of the criteria I am considering to make this judgment are: \n",
    "- Percentage of photos rejected in past packages\n",
    "- Picture resolution\n",
    "- Distance picture was taken from site coordinates (extracted from photo metadata, can indicate if the picture wasn't taken at site)\n",
    "- Time picture was taken\n"
   ]
  },
  {
   "cell_type": "markdown",
   "metadata": {},
   "source": [
    "<b>Question 2.2</b>\n",
    "\n",
    "<i>Using the support vector machine function ksvm contained in the R package kernlab, find a \n",
    "good classifier for this data. Show the equation of your classifier, and how well it classifies the \n",
    "data points in the full data set. (Don’t worry about test/validation data yet; we’ll cover that topic soon.)</i>\n",
    "____________________________________________________________________________________________________________"
   ]
  },
  {
   "cell_type": "code",
   "execution_count": 1,
   "metadata": {
    "collapsed": true
   },
   "outputs": [],
   "source": [
    "data <- read.delim('credit_card_data-headers.txt', header=TRUE)"
   ]
  },
  {
   "cell_type": "code",
   "execution_count": 3,
   "metadata": {},
   "outputs": [],
   "source": [
    "library(kernlab)\n",
    "library(ggplot2)\n",
    "\n",
    "#initialize variables\n",
    "a <- numeric(0)\n",
    "lambda <- 0\n",
    "# Loop through a few values of C, just to get an idea of what works best:\n",
    "C <- c(0.001,0.005,0.01,0.05,0.1,0.5,1,5,10,50,100,500,1000,5000,10000,50000,100000,500000,1000000)\n",
    "\n",
    "## Note the added \"kpar=list()\" is simply added because the message\n",
    "## \"Setting default kernel parameters\" was throwing off my formatting... \n",
    "\n",
    "for(i in 1:length(C)){    \n",
    "    # call ksvm.  Vanilladot is a simple linear kernel.\n",
    "    model <-ksvm(as.matrix(data[,1:10]),as.factor(data[,11]),type='C-svc',kernel= 'vanilladot',C=C[i],\n",
    "            scaled=TRUE, kpar=list())\n",
    "    # calculate a1...am\n",
    "    a <- colSums(model@xmatrix[[1]] * model@coef[[1]])\n",
    "\n",
    "    # calculate a0\n",
    "    a0 <- model@b\n",
    "    i\n",
    "    # see what the model predicts\n",
    "    pred <-predict(model,data[,1:10])\n",
    "    # see what fraction of the model’s predictions match the actual classification\n",
    "    lambda[i] <- sum(pred == data[,11]) / nrow(data)\n",
    "    #Grab C = 100000 for printing\n",
    "    if (C[i] == 100000) {\n",
    "        coef <- a\n",
    "        intercept <- a0\n",
    "    }\n",
    "}"
   ]
  },
  {
   "cell_type": "code",
   "execution_count": 115,
   "metadata": {},
   "outputs": [
    {
     "data": {
      "image/png": "[encoded data removed]"
     },
     "metadata": {},
     "output_type": "display_data"
    }
   ],
   "source": [
    "df <- data.frame(C,lambda)\n",
    "g = ggplot(df, aes(x = C, y=lambda)) + geom_point() + scale_x_continuous(trans='log10') + expand_limits(y=c(0.8,0.9))\n",
    "\n",
    "print(g)"
   ]
  },
  {
   "cell_type": "code",
   "execution_count": 116,
   "metadata": {},
   "outputs": [
    {
     "data": {
      "text/html": [
       "<dl class=dl-horizontal>\n",
       "\t<dt>1</dt>\n",
       "\t\t<dd>-0.0805445136627714</dd>\n",
       "\t<dt>A1</dt>\n",
       "\t\t<dd>-0.00411773846019514</dd>\n",
       "\t<dt>A2</dt>\n",
       "\t\t<dd>-0.0868960885384062</dd>\n",
       "\t<dt>A3</dt>\n",
       "\t\t<dd>0.129715259925433</dd>\n",
       "\t<dt>A8</dt>\n",
       "\t\t<dd>-0.083744032307834</dd>\n",
       "\t<dt>A9</dt>\n",
       "\t\t<dd>0.98838136777978</dd>\n",
       "\t<dt>A10</dt>\n",
       "\t\t<dd>0.0312538880605757</dd>\n",
       "\t<dt>A11</dt>\n",
       "\t\t<dd>-0.0556669716480798</dd>\n",
       "\t<dt>A12</dt>\n",
       "\t\t<dd>-0.0372818556281089</dd>\n",
       "\t<dt>A14</dt>\n",
       "\t\t<dd>0.0219407438117258</dd>\n",
       "\t<dt>A15</dt>\n",
       "\t\t<dd>0.0185217847582351</dd>\n",
       "</dl>\n"
      ],
      "text/latex": [
       "\\begin{description*}\n",
       "\\item[1] -0.0805445136627714\n",
       "\\item[A1] -0.00411773846019514\n",
       "\\item[A2] -0.0868960885384062\n",
       "\\item[A3] 0.129715259925433\n",
       "\\item[A8] -0.083744032307834\n",
       "\\item[A9] 0.98838136777978\n",
       "\\item[A10] 0.0312538880605757\n",
       "\\item[A11] -0.0556669716480798\n",
       "\\item[A12] -0.0372818556281089\n",
       "\\item[A14] 0.0219407438117258\n",
       "\\item[A15] 0.0185217847582351\n",
       "\\end{description*}\n"
      ],
      "text/markdown": [
       "1\n",
       ":   -0.0805445136627714A1\n",
       ":   -0.00411773846019514A2\n",
       ":   -0.0868960885384062A3\n",
       ":   0.129715259925433A8\n",
       ":   -0.083744032307834A9\n",
       ":   0.98838136777978A10\n",
       ":   0.0312538880605757A11\n",
       ":   -0.0556669716480798A12\n",
       ":   -0.0372818556281089A14\n",
       ":   0.0219407438117258A15\n",
       ":   0.0185217847582351\n",
       "\n"
      ],
      "text/plain": [
       "                       A1           A2           A3           A8           A9 \n",
       "-0.080544514 -0.004117738 -0.086896089  0.129715260 -0.083744032  0.988381368 \n",
       "         A10          A11          A12          A14          A15 \n",
       " 0.031253888 -0.055666972 -0.037281856  0.021940744  0.018521785 "
      ]
     },
     "metadata": {},
     "output_type": "display_data"
    }
   ],
   "source": [
    "c(intercept,coef)"
   ]
  },
  {
   "cell_type": "markdown",
   "metadata": {},
   "source": [
    "Plotting the results below on a log scale, we can see that it should be fine picking any value of of C between ~$10^{-2}$ and ~$10^{5}$ should be fine. So, picking C=100000 (see above loop), we get the following values for $A_0$ + the intercepts, which can be expressed as $$$$\n",
    "$$-0.0805-0.0041x_1-0.0869x_2+0.1297x_3-0.0837x_8+0.9884x_9+0.0313x_{10}-0.0557x_{11}-0.0373x_{12}+0.0219x_{14}+0.0185x_{15} = 0$$"
   ]
  },
  {
   "cell_type": "markdown",
   "metadata": {},
   "source": [
    "<b>Question 2.3</b>\n",
    "\n",
    "<i>Using the k-nearest-neighbors classification function kknn contained in the R-kknn package,\n",
    "suggest a good value of k, and show how well it classifies that data points in the full data set.</i>\n",
    "____________________________________________________________________________________________________________"
   ]
  },
  {
   "cell_type": "code",
   "execution_count": 117,
   "metadata": {
    "collapsed": true
   },
   "outputs": [],
   "source": [
    "library(kknn)\n",
    "k_values <- seq(1,20,1)\n",
    "predictions <- c()\n",
    "count <- 0\n",
    "max <- nrow(data)\n",
    "for (i in 1:length(k_values)){\n",
    "    for (j in 1:max) {\n",
    "        model_kknn <- kknn(R1~.,data[-j,], data[j,],\n",
    "                  k=(k_values[i]), scale=TRUE)\n",
    "        count <- count+round(fitted(model_kknn)+0.5)\n",
    "        }\n",
    "  predictions[i] <- count/max\n",
    "  count <- 0    \n",
    "}"
   ]
  },
  {
   "cell_type": "code",
   "execution_count": 118,
   "metadata": {},
   "outputs": [
    {
     "data": {
      "text/plain": [
       "mapping: y = y \n",
       "geom_blank: na.rm = FALSE\n",
       "stat_identity: na.rm = FALSE\n",
       "position_identity "
      ]
     },
     "metadata": {},
     "output_type": "display_data"
    },
    {
     "data": {
      "image/png": "[encoded data removed]"
     },
     "metadata": {},
     "output_type": "display_data"
    }
   ],
   "source": [
    "df2 <- data.frame(k_values,predictions)\n",
    "g2 = ggplot(df2, aes(x = k_values, y=predictions)) + geom_point() \n",
    "     expand_limits(y=c(0.8,1))\n",
    "\n",
    "print(g2)"
   ]
  },
  {
   "cell_type": "markdown",
   "metadata": {},
   "source": [
    "As we can see, on the whole as $K$ dips down and then quickly increases converges to 1 as expected. Without true validation, it is difficult to say what the best $K$ value is, but it is almost certainly not >20"
   ]
  },
  {
   "cell_type": "code",
   "execution_count": 119,
   "metadata": {},
   "outputs": [
    {
     "ename": "ERROR",
     "evalue": "Error in library(nbconvert): there is no package called 'nbconvert'\n",
     "output_type": "error",
     "traceback": [
      "Error in library(nbconvert): there is no package called 'nbconvert'\nTraceback:\n",
      "1. library(nbconvert)",
      "2. stop(txt, domain = NA)"
     ]
    }
   ],
   "source": [
    "library(nbconvert)"
   ]
  }
 ],
 "metadata": {
  "kernelspec": {
   "display_name": "R",
   "language": "R",
   "name": "r"
  },
  "language_info": {
   "codemirror_mode": "r",
   "file_extension": ".r",
   "mimetype": "text/x-r-source",
   "name": "R",
   "pygments_lexer": "r",
   "version": "3.3.3"
  }
 },
 "nbformat": 4,
 "nbformat_minor": 2
}
