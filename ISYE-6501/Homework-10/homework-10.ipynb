{
 "cells": [
  {
   "cell_type": "markdown",
   "metadata": {},
   "source": [
    "<b><center> Homework 10 </center></b>\n",
    "<br>\n",
    "<b><center> James Bonifield </center></b>\n",
    "<br>\n",
    "<br>\n",
    "<b>Question 14.1</b><br>\n",
    "The breast cancer data set breast-cancer-wisconsin.data.txt from\n",
    "http://archive.ics.uci.edu/ml/machine-learning-databases/breast-cancer-wisconsin/ (description at\n",
    "http://archive.ics.uci.edu/ml/datasets/Breast+Cancer+Wisconsin+%28Original%29 ) has missing values.\n",
    "1. Use the mean/mode imputation method to impute values for the missing data.\n",
    "2. Use regression to impute values for the missing data.\n",
    "3. Use regression with perturbation to impute values for the missing data.\n",
    "4. (Optional) Compare the results and quality of classification models (e.g., SVM, KNN) build using\n",
    "(1) the data sets from questions 1,2,3;\n",
    "(2) the data that remains after data points with missing values are removed; and\n",
    "(3) the data set when a binary variable is introduced to indicate missing values."
   ]
  },
  {
   "cell_type": "markdown",
   "metadata": {},
   "source": [
    "<b>Answer</b><br>\n",
    "A DoE approach would be appropriate for almost any problem in any sphere of life where one wants to determine causation. For example, I have a rather long commute to the office for work every day - an experiment could be designed where I vary the routes I take, the time I leave, how fast I drive, etc to determine how I can get home most quickly."
   ]
  },
  {
   "cell_type": "code",
   "execution_count": 3,
   "metadata": {},
   "outputs": [
    {
     "name": "stderr",
     "output_type": "stream",
     "text": [
      "Installing package into 'C:/Users/JamesBonifield/Documents/R/win-library/3.4'\n",
      "(as 'lib' is unspecified)\n"
     ]
    },
    {
     "name": "stdout",
     "output_type": "stream",
     "text": [
      "package 'tidyverse' successfully unpacked and MD5 sums checked\n",
      "\n",
      "The downloaded binary packages are in\n",
      "\tC:\\Users\\JamesBonifield\\AppData\\Local\\Temp\\RtmpqotMu7\\downloaded_packages\n"
     ]
    }
   ],
   "source": [
    "install.packages('tidyverse')\n",
    "data = read_csv()"
   ]
  },
  {
   "cell_type": "code",
   "execution_count": null,
   "metadata": {},
   "outputs": [],
   "source": []
  }
 ],
 "metadata": {
  "kernelspec": {
   "display_name": "R",
   "language": "R",
   "name": "ir"
  },
  "language_info": {
   "codemirror_mode": "r",
   "file_extension": ".r",
   "mimetype": "text/x-r-source",
   "name": "R",
   "pygments_lexer": "r",
   "version": "3.4.3"
  }
 },
 "nbformat": 4,
 "nbformat_minor": 2
}
