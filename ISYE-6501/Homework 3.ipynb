{
 "cells": [
  {
   "cell_type": "markdown",
   "metadata": {
    "collapsed": true
   },
   "source": [
    "<b><center> Homework 3 </center></b>\n",
    "<br>\n",
    "<b><center> James Bonifield </center></b>\n",
    "<br>\n",
    "<br>\n",
    "<b>Question 5.1</b><br>\n",
    "Use the supplied crime data to see if there is an outlier in the # of crimes/100k people.\n",
    "<br>\n",
    "Determine if the low/high crime cities are outliers (Note: Assignment says cities, but these are actually US States...)"
   ]
  },
  {
   "cell_type": "code",
   "execution_count": 23,
   "metadata": {},
   "outputs": [],
   "source": [
    "library(outliers)\n",
    "library(ggplot2)\n",
    "\n",
    "data <- read.delim('uscrime.txt', header=TRUE)"
   ]
  },
  {
   "cell_type": "markdown",
   "metadata": {},
   "source": [
    "To determine if a result is statistically significant, we will us an significance level of $\\alpha = 0.10$ from the  Grubbs' Test for Outliers to accept or reject the null hypothesis, looking for results in both tails of the distribution."
   ]
  },
  {
   "cell_type": "code",
   "execution_count": 25,
   "metadata": {},
   "outputs": [
    {
     "name": "stdout",
     "output_type": "stream",
     "text": [
      "[1] \"Tail 1:\"\n"
     ]
    },
    {
     "data": {
      "text/plain": [
       "\n",
       "\tGrubbs test for one outlier\n",
       "\n",
       "data:  data$Crime\n",
       "G = 2.81290, U = 0.82426, p-value = 0.07887\n",
       "alternative hypothesis: highest value 1993 is an outlier\n"
      ]
     },
     "metadata": {},
     "output_type": "display_data"
    },
    {
     "name": "stdout",
     "output_type": "stream",
     "text": [
      "[1] \"Tail 2:\"\n"
     ]
    },
    {
     "data": {
      "text/plain": [
       "\n",
       "\tGrubbs test for one outlier\n",
       "\n",
       "data:  data$Crime\n",
       "G = 1.45590, U = 0.95292, p-value = 1\n",
       "alternative hypothesis: lowest value 342 is an outlier\n"
      ]
     },
     "metadata": {},
     "output_type": "display_data"
    }
   ],
   "source": [
    "#?grubbs.test\n",
    "Direction1_Outlier = grubbs.test(data$Crime, type=10)\n",
    "Direction2_Outlier = grubbs.test(data$Crime, type=10, opposite=TRUE)\n",
    "#data$Crime\n",
    "print(\"Tail 1:\")\n",
    "Direction1_Outlier\n",
    "print(\"Tail 2:\")\n",
    "Direction2_Outlier"
   ]
  },
  {
   "cell_type": "markdown",
   "metadata": {},
   "source": [
    "Based on these p-values, we can conclude 1993 is an outlier on the higher end, and there is no outlier on the lower end."
   ]
  },
  {
   "cell_type": "markdown",
   "metadata": {},
   "source": [
    "<b>Question 6.1</b><br>\n",
    "Describe a situation or problem from your job, everyday life, current events, etc., for which a Change\n",
    "Detection model would be appropriate. Applying the CUSUM technique, how would you choose the\n",
    "critical value and the threshold?\n"
   ]
  },
  {
   "cell_type": "markdown",
   "metadata": {},
   "source": [
    "I work as an enterprise software consultant currently, and at my job one large client of ours is having persistent performance issues where performance will degrade and we need to rebuild the indexes on a set of tables in the database. We want to know if a particular subprocess passes a threshold for slow performance (e.g. >10 seconds to return a search) on a standard query, while not flagging the need for a index rebuild just because one random search happens to pass the 10 second threshold, chosen by the business. The critical value would vary based on the subprocess, where more critical processes that absolutely must return quickly would have lower critical values."
   ]
  },
  {
   "cell_type": "markdown",
   "metadata": {},
   "source": [
    "<b>Question 6.2</b><br>\n",
    "1.  Using July through October daily-high-temperature data for Atlanta for 1996 through 2015, use\n",
    "    a CUSUM approach to identify when unofficial summer ends (i.e., when the weather starts\n",
    "    cooling off) each year. You can get the data that you need from the file temps.txt or online,\n",
    "    for example at http://www.iweathernet.com/atlanta-weather-records or\n",
    "    https://www.wunderground.com/history/airport/KFTY/2015/7/1/CustomHistory.html . You can\n",
    "    use R if you’d like, but it’s straightforward enough that an Excel spreadsheet can easily do the\n",
    "    job too.\n",
    "2.  Use a CUSUM approach to make a judgment of whether Atlanta’s summer climate has gotten\n",
    "    warmer in that time (and if so, when).    "
   ]
  },
  {
   "cell_type": "markdown",
   "metadata": {},
   "source": [
    "1) See the excel spreadsheet for analysis - Summer ends at a threshold of 5x$\\sigma$ at between the 30-August for C=1 to 30-September for C=10 \n",
    "<br><br>\n",
    "2) See the excel spreadsheet for analysis - for C=5 and a threshold of 5x$\\sigma$ I averaged the 1st and 2nd decades and saw that the end of summer appeared by coming sooner by CUSUM analysis. By that logic, we conclude it is likely based on this data that Atlanta's summer climate has gotten hotter."
   ]
  }
 ],
 "metadata": {
  "kernelspec": {
   "display_name": "R",
   "language": "R",
   "name": "r"
  },
  "language_info": {
   "codemirror_mode": "r",
   "file_extension": ".r",
   "mimetype": "text/x-r-source",
   "name": "R",
   "pygments_lexer": "r",
   "version": "3.4.1"
  }
 },
 "nbformat": 4,
 "nbformat_minor": 2
}
