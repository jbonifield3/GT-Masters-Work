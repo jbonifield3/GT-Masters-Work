{
 "cells": [
  {
   "cell_type": "markdown",
   "metadata": {},
   "source": [
    "<b><center> Homework 8 </center></b>\n",
    "<br>\n",
    "<b><center> James Bonifield </center></b>\n",
    "<br>\n",
    "<br>\n",
    "<b>Question 11.1</b><br>\n",
    "Using\tthe\tcrime\tdata\tset\tfrom\tQuestions\t8.2,\t9.1,\tand\t10.1,\tbuild\ta\tregression\tmodel\tusing:\n",
    "1. Stepwise\tregression\n",
    "2. Lasso\n",
    "3. Elastic\tnet\n",
    "For\tParts\t2\tand\t3,\tremember\tto\tscale\tthe\tdata\tfirst\t– otherwise,\tthe\tregression\tcoefficients\twill\tbe\ton\t\n",
    "different\tscales\tand\tthe\tconstraint\twon’t\thave the desired effect.\n",
    "For\tParts\t2\tand\t3,\tuse\tthe\tglmnet function\tin\tR.\t"
   ]
  },
  {
   "cell_type": "markdown",
   "metadata": {},
   "source": [
    "First, load a few library and the data, then take a look at variables"
   ]
  },
  {
   "cell_type": "code",
   "execution_count": 125,
   "metadata": {},
   "outputs": [
    {
     "name": "stdout",
     "output_type": "stream",
     "text": [
      "Classes 'tbl_df', 'tbl' and 'data.frame':\t47 obs. of  16 variables:\n",
      " $ M     : num  15.1 14.3 14.2 13.6 14.1 12.1 12.7 13.1 15.7 14 ...\n",
      " $ So    : int  1 0 1 0 0 0 1 1 1 0 ...\n",
      " $ Ed    : num  9.1 11.3 8.9 12.1 12.1 11 11.1 10.9 9 11.8 ...\n",
      " $ Po1   : num  5.8 10.3 4.5 14.9 10.9 11.8 8.2 11.5 6.5 7.1 ...\n",
      " $ Po2   : num  5.6 9.5 4.4 14.1 10.1 11.5 7.9 10.9 6.2 6.8 ...\n",
      " $ LF    : num  0.51 0.583 0.533 0.577 0.591 0.547 0.519 0.542 0.553 0.632 ...\n",
      " $ M.F   : num  95 101.2 96.9 99.4 98.5 ...\n",
      " $ Pop   : int  33 13 18 157 18 25 4 50 39 7 ...\n",
      " $ NW    : num  30.1 10.2 21.9 8 3 4.4 13.9 17.9 28.6 1.5 ...\n",
      " $ U1    : num  0.108 0.096 0.094 0.102 0.091 0.084 0.097 0.079 0.081 0.1 ...\n",
      " $ U2    : num  4.1 3.6 3.3 3.9 2 2.9 3.8 3.5 2.8 2.4 ...\n",
      " $ Wealth: int  3940 5570 3180 6730 5780 6890 6200 4720 4210 5260 ...\n",
      " $ Ineq  : num  26.1 19.4 25 16.7 17.4 12.6 16.8 20.6 23.9 17.4 ...\n",
      " $ Prob  : num  0.0846 0.0296 0.0834 0.0158 0.0414 ...\n",
      " $ Time  : num  26.2 25.3 24.3 29.9 21.3 ...\n",
      " $ Crime : int  791 1635 578 1969 1234 682 963 1555 856 705 ...\n",
      " - attr(*, \"spec\")=List of 2\n",
      "  ..$ cols   :List of 16\n",
      "  .. ..$ M     : list()\n",
      "  .. .. ..- attr(*, \"class\")= chr  \"collector_double\" \"collector\"\n",
      "  .. ..$ So    : list()\n",
      "  .. .. ..- attr(*, \"class\")= chr  \"collector_integer\" \"collector\"\n",
      "  .. ..$ Ed    : list()\n",
      "  .. .. ..- attr(*, \"class\")= chr  \"collector_double\" \"collector\"\n",
      "  .. ..$ Po1   : list()\n",
      "  .. .. ..- attr(*, \"class\")= chr  \"collector_double\" \"collector\"\n",
      "  .. ..$ Po2   : list()\n",
      "  .. .. ..- attr(*, \"class\")= chr  \"collector_double\" \"collector\"\n",
      "  .. ..$ LF    : list()\n",
      "  .. .. ..- attr(*, \"class\")= chr  \"collector_double\" \"collector\"\n",
      "  .. ..$ M.F   : list()\n",
      "  .. .. ..- attr(*, \"class\")= chr  \"collector_double\" \"collector\"\n",
      "  .. ..$ Pop   : list()\n",
      "  .. .. ..- attr(*, \"class\")= chr  \"collector_integer\" \"collector\"\n",
      "  .. ..$ NW    : list()\n",
      "  .. .. ..- attr(*, \"class\")= chr  \"collector_double\" \"collector\"\n",
      "  .. ..$ U1    : list()\n",
      "  .. .. ..- attr(*, \"class\")= chr  \"collector_double\" \"collector\"\n",
      "  .. ..$ U2    : list()\n",
      "  .. .. ..- attr(*, \"class\")= chr  \"collector_double\" \"collector\"\n",
      "  .. ..$ Wealth: list()\n",
      "  .. .. ..- attr(*, \"class\")= chr  \"collector_integer\" \"collector\"\n",
      "  .. ..$ Ineq  : list()\n",
      "  .. .. ..- attr(*, \"class\")= chr  \"collector_double\" \"collector\"\n",
      "  .. ..$ Prob  : list()\n",
      "  .. .. ..- attr(*, \"class\")= chr  \"collector_double\" \"collector\"\n",
      "  .. ..$ Time  : list()\n",
      "  .. .. ..- attr(*, \"class\")= chr  \"collector_double\" \"collector\"\n",
      "  .. ..$ Crime : list()\n",
      "  .. .. ..- attr(*, \"class\")= chr  \"collector_integer\" \"collector\"\n",
      "  ..$ default: list()\n",
      "  .. ..- attr(*, \"class\")= chr  \"collector_guess\" \"collector\"\n",
      "  ..- attr(*, \"class\")= chr \"col_spec\"\n"
     ]
    }
   ],
   "source": [
    "library('tidyverse')\n",
    "library('ggplot2')\n",
    "library('caret')\n",
    "library('glmnet')\n",
    "library('pROC')\n",
    "data <- suppressMessages((read_tsv('uscrime.txt')))\n",
    "str(data)"
   ]
  },
  {
   "cell_type": "markdown",
   "metadata": {},
   "source": [
    "We can see that all the data is numeric except column 2 (So), so we can start by scaling all that factor data"
   ]
  },
  {
   "cell_type": "code",
   "execution_count": 126,
   "metadata": {},
   "outputs": [
    {
     "name": "stdout",
     "output_type": "stream",
     "text": [
      "'data.frame':\t47 obs. of  16 variables:\n",
      " $ So    : int  1 0 1 0 0 0 1 1 1 0 ...\n",
      " $ M     : atomic  0.989 0.352 0.273 -0.205 0.193 ...\n",
      "  ..- attr(*, \"scaled:center\")= Named num  13.857 10.564 8.5 8.023 0.561 ...\n",
      "  .. ..- attr(*, \"names\")= chr  \"M\" \"Ed\" \"Po1\" \"Po2\" ...\n",
      "  ..- attr(*, \"scaled:scale\")= Named num  1.2568 1.1187 2.9719 2.7961 0.0404 ...\n",
      "  .. ..- attr(*, \"names\")= chr  \"M\" \"Ed\" \"Po1\" \"Po2\" ...\n",
      " $ Ed    : atomic  -1.309 0.658 -1.487 1.373 1.373 ...\n",
      "  ..- attr(*, \"scaled:center\")= Named num  13.857 10.564 8.5 8.023 0.561 ...\n",
      "  .. ..- attr(*, \"names\")= chr  \"M\" \"Ed\" \"Po1\" \"Po2\" ...\n",
      "  ..- attr(*, \"scaled:scale\")= Named num  1.2568 1.1187 2.9719 2.7961 0.0404 ...\n",
      "  .. ..- attr(*, \"names\")= chr  \"M\" \"Ed\" \"Po1\" \"Po2\" ...\n",
      " $ Po1   : atomic  -0.909 0.606 -1.346 2.154 0.808 ...\n",
      "  ..- attr(*, \"scaled:center\")= Named num  13.857 10.564 8.5 8.023 0.561 ...\n",
      "  .. ..- attr(*, \"names\")= chr  \"M\" \"Ed\" \"Po1\" \"Po2\" ...\n",
      "  ..- attr(*, \"scaled:scale\")= Named num  1.2568 1.1187 2.9719 2.7961 0.0404 ...\n",
      "  .. ..- attr(*, \"names\")= chr  \"M\" \"Ed\" \"Po1\" \"Po2\" ...\n",
      " $ Po2   : atomic  -0.867 0.528 -1.296 2.173 0.743 ...\n",
      "  ..- attr(*, \"scaled:center\")= Named num  13.857 10.564 8.5 8.023 0.561 ...\n",
      "  .. ..- attr(*, \"names\")= chr  \"M\" \"Ed\" \"Po1\" \"Po2\" ...\n",
      "  ..- attr(*, \"scaled:scale\")= Named num  1.2568 1.1187 2.9719 2.7961 0.0404 ...\n",
      "  .. ..- attr(*, \"names\")= chr  \"M\" \"Ed\" \"Po1\" \"Po2\" ...\n",
      " $ LF    : atomic  -1.267 0.54 -0.698 0.391 0.738 ...\n",
      "  ..- attr(*, \"scaled:center\")= Named num  13.857 10.564 8.5 8.023 0.561 ...\n",
      "  .. ..- attr(*, \"names\")= chr  \"M\" \"Ed\" \"Po1\" \"Po2\" ...\n",
      "  ..- attr(*, \"scaled:scale\")= Named num  1.2568 1.1187 2.9719 2.7961 0.0404 ...\n",
      "  .. ..- attr(*, \"names\")= chr  \"M\" \"Ed\" \"Po1\" \"Po2\" ...\n",
      " $ M.F   : atomic  -1.1206 0.9834 -0.4758 0.3726 0.0671 ...\n",
      "  ..- attr(*, \"scaled:center\")= Named num  13.857 10.564 8.5 8.023 0.561 ...\n",
      "  .. ..- attr(*, \"names\")= chr  \"M\" \"Ed\" \"Po1\" \"Po2\" ...\n",
      "  ..- attr(*, \"scaled:scale\")= Named num  1.2568 1.1187 2.9719 2.7961 0.0404 ...\n",
      "  .. ..- attr(*, \"names\")= chr  \"M\" \"Ed\" \"Po1\" \"Po2\" ...\n",
      " $ Pop   : atomic  -0.095 -0.62 -0.489 3.162 -0.489 ...\n",
      "  ..- attr(*, \"scaled:center\")= Named num  13.857 10.564 8.5 8.023 0.561 ...\n",
      "  .. ..- attr(*, \"names\")= chr  \"M\" \"Ed\" \"Po1\" \"Po2\" ...\n",
      "  ..- attr(*, \"scaled:scale\")= Named num  1.2568 1.1187 2.9719 2.7961 0.0404 ...\n",
      "  .. ..- attr(*, \"names\")= chr  \"M\" \"Ed\" \"Po1\" \"Po2\" ...\n",
      " $ NW    : atomic  1.94374 0.00848 1.1463 -0.20546 -0.69171 ...\n",
      "  ..- attr(*, \"scaled:center\")= Named num  13.857 10.564 8.5 8.023 0.561 ...\n",
      "  .. ..- attr(*, \"names\")= chr  \"M\" \"Ed\" \"Po1\" \"Po2\" ...\n",
      "  ..- attr(*, \"scaled:scale\")= Named num  1.2568 1.1187 2.9719 2.7961 0.0404 ...\n",
      "  .. ..- attr(*, \"names\")= chr  \"M\" \"Ed\" \"Po1\" \"Po2\" ...\n",
      " $ U1    : atomic  0.6951 0.0295 -0.0814 0.3623 -0.2478 ...\n",
      "  ..- attr(*, \"scaled:center\")= Named num  13.857 10.564 8.5 8.023 0.561 ...\n",
      "  .. ..- attr(*, \"names\")= chr  \"M\" \"Ed\" \"Po1\" \"Po2\" ...\n",
      "  ..- attr(*, \"scaled:scale\")= Named num  1.2568 1.1187 2.9719 2.7961 0.0404 ...\n",
      "  .. ..- attr(*, \"names\")= chr  \"M\" \"Ed\" \"Po1\" \"Po2\" ...\n",
      " $ U2    : atomic  0.831 0.239 -0.116 0.595 -1.655 ...\n",
      "  ..- attr(*, \"scaled:center\")= Named num  13.857 10.564 8.5 8.023 0.561 ...\n",
      "  .. ..- attr(*, \"names\")= chr  \"M\" \"Ed\" \"Po1\" \"Po2\" ...\n",
      "  ..- attr(*, \"scaled:scale\")= Named num  1.2568 1.1187 2.9719 2.7961 0.0404 ...\n",
      "  .. ..- attr(*, \"names\")= chr  \"M\" \"Ed\" \"Po1\" \"Po2\" ...\n",
      " $ Wealth: atomic  -1.362 0.328 -2.149 1.53 0.545 ...\n",
      "  ..- attr(*, \"scaled:center\")= Named num  13.857 10.564 8.5 8.023 0.561 ...\n",
      "  .. ..- attr(*, \"names\")= chr  \"M\" \"Ed\" \"Po1\" \"Po2\" ...\n",
      "  ..- attr(*, \"scaled:scale\")= Named num  1.2568 1.1187 2.9719 2.7961 0.0404 ...\n",
      "  .. ..- attr(*, \"names\")= chr  \"M\" \"Ed\" \"Po1\" \"Po2\" ...\n",
      " $ Ineq  : atomic  1.679 0 1.404 -0.677 -0.501 ...\n",
      "  ..- attr(*, \"scaled:center\")= Named num  13.857 10.564 8.5 8.023 0.561 ...\n",
      "  .. ..- attr(*, \"names\")= chr  \"M\" \"Ed\" \"Po1\" \"Po2\" ...\n",
      "  ..- attr(*, \"scaled:scale\")= Named num  1.2568 1.1187 2.9719 2.7961 0.0404 ...\n",
      "  .. ..- attr(*, \"names\")= chr  \"M\" \"Ed\" \"Po1\" \"Po2\" ...\n",
      " $ Prob  : atomic  1.65 -0.769 1.597 -1.376 -0.25 ...\n",
      "  ..- attr(*, \"scaled:center\")= Named num  13.857 10.564 8.5 8.023 0.561 ...\n",
      "  .. ..- attr(*, \"names\")= chr  \"M\" \"Ed\" \"Po1\" \"Po2\" ...\n",
      "  ..- attr(*, \"scaled:scale\")= Named num  1.2568 1.1187 2.9719 2.7961 0.0404 ...\n",
      "  .. ..- attr(*, \"names\")= chr  \"M\" \"Ed\" \"Po1\" \"Po2\" ...\n",
      " $ Time  : atomic  -0.056 -0.183 -0.324 0.466 -0.748 ...\n",
      "  ..- attr(*, \"scaled:center\")= Named num  13.857 10.564 8.5 8.023 0.561 ...\n",
      "  .. ..- attr(*, \"names\")= chr  \"M\" \"Ed\" \"Po1\" \"Po2\" ...\n",
      "  ..- attr(*, \"scaled:scale\")= Named num  1.2568 1.1187 2.9719 2.7961 0.0404 ...\n",
      "  .. ..- attr(*, \"names\")= chr  \"M\" \"Ed\" \"Po1\" \"Po2\" ...\n",
      " $ Crime : int  791 1635 578 1969 1234 682 963 1555 856 705 ...\n"
     ]
    }
   ],
   "source": [
    "ScaledData <- as.tibble(scale(data[,-c(2,16)]))\n",
    "ScaledData <- cbind(data[,2],ScaledData,data[,16])\n",
    "str(ScaledData)"
   ]
  },
  {
   "cell_type": "markdown",
   "metadata": {},
   "source": [
    "<b>1. Stepwise Regression </b> <br>\n",
    "First, we'll perform 4 fold Cross-Validation on the scaled Crime Data. Note we do a forward selection model here, but we could just as easily do a backwards, since there are a relatively low number of variables one could make a case that it makes more sense."
   ]
  },
  {
   "cell_type": "code",
   "execution_count": 127,
   "metadata": {},
   "outputs": [
    {
     "name": "stdout",
     "output_type": "stream",
     "text": [
      "Start:  AIC=386.97\n",
      ".outcome ~ So + M + Ed + Po1 + Po2 + LF + M.F + Pop + NW + U1 + \n",
      "    U2 + Wealth + Ineq + Prob + Time\n",
      "\n",
      "Start:  AIC=380.83\n",
      ".outcome ~ So + M + Ed + Po1 + Po2 + LF + M.F + Pop + NW + U1 + \n",
      "    U2 + Wealth + Ineq + Prob + Time\n",
      "\n",
      "Start:  AIC=384.19\n",
      ".outcome ~ So + M + Ed + Po1 + Po2 + LF + M.F + Pop + NW + U1 + \n",
      "    U2 + Wealth + Ineq + Prob + Time\n",
      "\n",
      "Start:  AIC=387.58\n",
      ".outcome ~ So + M + Ed + Po1 + Po2 + LF + M.F + Pop + NW + U1 + \n",
      "    U2 + Wealth + Ineq + Prob + Time\n",
      "\n",
      "Start:  AIC=393.64\n",
      ".outcome ~ So + M + Ed + Po1 + Po2 + LF + M.F + Pop + NW + U1 + \n",
      "    U2 + Wealth + Ineq + Prob + Time\n",
      "\n",
      "Start:  AIC=392.81\n",
      ".outcome ~ So + M + Ed + Po1 + Po2 + LF + M.F + Pop + NW + U1 + \n",
      "    U2 + Wealth + Ineq + Prob + Time\n",
      "\n",
      "Start:  AIC=361.23\n",
      ".outcome ~ So + M + Ed + Po1 + Po2 + LF + M.F + Pop + NW + U1 + \n",
      "    U2 + Wealth + Ineq + Prob + Time\n",
      "\n",
      "Start:  AIC=396.78\n",
      ".outcome ~ So + M + Ed + Po1 + Po2 + LF + M.F + Pop + NW + U1 + \n",
      "    U2 + Wealth + Ineq + Prob + Time\n",
      "\n",
      "Start:  AIC=404.05\n",
      ".outcome ~ So + M + Ed + Po1 + Po2 + LF + M.F + Pop + NW + U1 + \n",
      "    U2 + Wealth + Ineq + Prob + Time\n",
      "\n",
      "Start:  AIC=376.59\n",
      ".outcome ~ So + M + Ed + Po1 + Po2 + LF + M.F + Pop + NW + U1 + \n",
      "    U2 + Wealth + Ineq + Prob + Time\n",
      "\n",
      "Start:  AIC=382.22\n",
      ".outcome ~ So + M + Ed + Po1 + Po2 + LF + M.F + Pop + NW + U1 + \n",
      "    U2 + Wealth + Ineq + Prob + Time\n",
      "\n",
      "Start:  AIC=389.95\n",
      ".outcome ~ So + M + Ed + Po1 + Po2 + LF + M.F + Pop + NW + U1 + \n",
      "    U2 + Wealth + Ineq + Prob + Time\n",
      "\n",
      "Start:  AIC=374.86\n",
      ".outcome ~ So + M + Ed + Po1 + Po2 + LF + M.F + Pop + NW + U1 + \n",
      "    U2 + Wealth + Ineq + Prob + Time\n",
      "\n",
      "Start:  AIC=387.83\n",
      ".outcome ~ So + M + Ed + Po1 + Po2 + LF + M.F + Pop + NW + U1 + \n",
      "    U2 + Wealth + Ineq + Prob + Time\n",
      "\n",
      "Start:  AIC=385.78\n",
      ".outcome ~ So + M + Ed + Po1 + Po2 + LF + M.F + Pop + NW + U1 + \n",
      "    U2 + Wealth + Ineq + Prob + Time\n",
      "\n",
      "Start:  AIC=394.14\n",
      ".outcome ~ So + M + Ed + Po1 + Po2 + LF + M.F + Pop + NW + U1 + \n",
      "    U2 + Wealth + Ineq + Prob + Time\n",
      "\n",
      "Start:  AIC=514.65\n",
      ".outcome ~ So + M + Ed + Po1 + Po2 + LF + M.F + Pop + NW + U1 + \n",
      "    U2 + Wealth + Ineq + Prob + Time\n",
      "\n"
     ]
    }
   ],
   "source": [
    "ControlData1 <- trainControl(method = 'repeatedcv', number = 4, repeats = 4)\n",
    "lmFit_AIC <- train(Crime ~., data = ScaledData, method='lmStepAIC', scope = list(lower = Crime~1, upper = Crime~.),\n",
    "               direction = \"forward\", trControl=ControlData1)"
   ]
  },
  {
   "cell_type": "code",
   "execution_count": 128,
   "metadata": {},
   "outputs": [
    {
     "data": {
      "text/plain": [
       "\n",
       "Call:\n",
       "lm(formula = .outcome ~ So + M + Ed + Po1 + Po2 + LF + M.F + \n",
       "    Pop + NW + U1 + U2 + Wealth + Ineq + Prob + Time, data = dat)\n",
       "\n",
       "Coefficients:\n",
       "(Intercept)           So            M           Ed          Po1          Po2  \n",
       "    906.380       -3.803      110.382      210.678      572.995     -305.958  \n",
       "         LF          M.F          Pop           NW           U1           U2  \n",
       "    -26.826       51.293      -27.906       43.234     -105.056      141.714  \n",
       "     Wealth         Ineq         Prob         Time  \n",
       "     92.792      281.954     -110.394      -24.655  \n"
      ]
     },
     "metadata": {},
     "output_type": "display_data"
    }
   ],
   "source": [
    "#show final model\n",
    "lmFit_AIC$finalModel"
   ]
  },
  {
   "cell_type": "markdown",
   "metadata": {},
   "source": [
    "Simply copy the generated formula above and substitute .outcome and dat for Crime and ScaledData:"
   ]
  },
  {
   "cell_type": "code",
   "execution_count": 129,
   "metadata": {},
   "outputs": [
    {
     "data": {
      "text/plain": [
       "\n",
       "Call:\n",
       "lm(formula = Crime ~ So + M + Ed + Po1 + Po2 + LF + M.F + Pop + \n",
       "    NW + U1 + U2 + Wealth + Ineq + Prob + Time, data = ScaledData)\n",
       "\n",
       "Residuals:\n",
       "    Min      1Q  Median      3Q     Max \n",
       "-395.74  -98.09   -6.69  112.99  512.67 \n",
       "\n",
       "Coefficients:\n",
       "            Estimate Std. Error t value Pr(>|t|)    \n",
       "(Intercept)  906.380     59.113  15.333 5.08e-16 ***\n",
       "So            -3.803    148.755  -0.026  0.97977    \n",
       "M            110.382     52.424   2.106  0.04344 *  \n",
       "Ed           210.678     69.458   3.033  0.00486 ** \n",
       "Po1          572.995    315.347   1.817  0.07889 .  \n",
       "Po2         -305.958    328.483  -0.931  0.35883    \n",
       "LF           -26.826     59.394  -0.452  0.65465    \n",
       "M.F           51.293     59.977   0.855  0.39900    \n",
       "Pop          -27.906     49.095  -0.568  0.57385    \n",
       "NW            43.234     66.642   0.649  0.52128    \n",
       "U1          -105.056     75.906  -1.384  0.17624    \n",
       "U2           141.714     69.536   2.038  0.05016 .  \n",
       "Wealth        92.792    100.028   0.928  0.36075    \n",
       "Ineq         281.954     90.630   3.111  0.00398 ** \n",
       "Prob        -110.394     51.667  -2.137  0.04063 *  \n",
       "Time         -24.655     50.780  -0.486  0.63071    \n",
       "---\n",
       "Signif. codes:  0 '***' 0.001 '**' 0.01 '*' 0.05 '.' 0.1 ' ' 1\n",
       "\n",
       "Residual standard error: 209.1 on 31 degrees of freedom\n",
       "Multiple R-squared:  0.8031,\tAdjusted R-squared:  0.7078 \n",
       "F-statistic: 8.429 on 15 and 31 DF,  p-value: 3.539e-07\n"
      ]
     },
     "metadata": {},
     "output_type": "display_data"
    }
   ],
   "source": [
    "LinearModel <- lm(formula = Crime ~ So + M + Ed + Po1 + Po2 + LF + M.F + \n",
    "    Pop + NW + U1 + U2 + Wealth + Ineq + Prob + Time, data = ScaledData)\n",
    "summary(LinearModel)"
   ]
  },
  {
   "cell_type": "code",
   "execution_count": 130,
   "metadata": {},
   "outputs": [
    {
     "name": "stdout",
     "output_type": "stream",
     "text": [
      "[1] \"standard error is:\"\n"
     ]
    },
    {
     "data": {
      "text/html": [
       "28828.6334305033"
      ],
      "text/latex": [
       "28828.6334305033"
      ],
      "text/markdown": [
       "28828.6334305033"
      ],
      "text/plain": [
       "[1] 28828.63"
      ]
     },
     "metadata": {},
     "output_type": "display_data"
    }
   ],
   "source": [
    "mse <- mean(LinearModel$residuals^2)\n",
    "print('standard error is:')\n",
    "mse"
   ]
  },
  {
   "cell_type": "markdown",
   "metadata": {},
   "source": [
    "<b>2. LASSO Regression </b>"
   ]
  },
  {
   "cell_type": "code",
   "execution_count": 131,
   "metadata": {},
   "outputs": [
    {
     "data": {
      "image/png": "[encoded data removed]",
      "text/plain": [
       "plot without title"
      ]
     },
     "metadata": {},
     "output_type": "display_data"
    }
   ],
   "source": [
    "MatFactors <- as.matrix(ScaledData[-16])\n",
    "MatResponse <- as.matrix(ScaledData$Crime)\n",
    "LassoModel <- cv.glmnet(x=MatFactors, y=MatResponse, alpha=1, nfolds=4,type.measure='mse',family='gaussian')\n",
    "\n",
    "plot(LassoModel)"
   ]
  },
  {
   "cell_type": "markdown",
   "metadata": {},
   "source": [
    "So, the above picture provides a lot of information about our LASSO model - the left of the horizontal vertical lines corresponds ot the minimum Mean Squared Error, and the right line represents the largest value for lambda within 1 standard error of the left line. Below we see the minimum error:"
   ]
  },
  {
   "cell_type": "code",
   "execution_count": 132,
   "metadata": {},
   "outputs": [
    {
     "name": "stdout",
     "output_type": "stream",
     "text": [
      "[1] \"Minimum Mean-Squared Error:\"\n"
     ]
    },
    {
     "data": {
      "text/html": [
       "96483.8274557487"
      ],
      "text/latex": [
       "96483.8274557487"
      ],
      "text/markdown": [
       "96483.8274557487"
      ],
      "text/plain": [
       "[1] 96483.83"
      ]
     },
     "metadata": {},
     "output_type": "display_data"
    }
   ],
   "source": [
    "print('Minimum Mean-Squared Error:')\n",
    "LassoModel$cvm[which(LassoModel$lambda == LassoModel$lambda.min)]"
   ]
  },
  {
   "cell_type": "code",
   "execution_count": 133,
   "metadata": {},
   "outputs": [
    {
     "data": {
      "text/plain": [
       "16 x 1 sparse Matrix of class \"dgCMatrix\"\n",
       "                   1\n",
       "(Intercept) 905.0851\n",
       "So            .     \n",
       "M             .     \n",
       "Ed            .     \n",
       "Po1         150.8208\n",
       "Po2           .     \n",
       "LF            .     \n",
       "M.F           .     \n",
       "Pop           .     \n",
       "NW            .     \n",
       "U1            .     \n",
       "U2            .     \n",
       "Wealth        .     \n",
       "Ineq          .     \n",
       "Prob          .     \n",
       "Time          .     "
      ]
     },
     "metadata": {},
     "output_type": "display_data"
    }
   ],
   "source": [
    "coef(LassoModel)"
   ]
  },
  {
   "cell_type": "markdown",
   "metadata": {},
   "source": [
    "We can see from the above coefficients that the LASSO Model only selects 9 of the 15 factors. Next, we'll investigate using an Elastic Net by tuning the value of alpha (i.e. introducing an element of a Ridge model, where alpha/lambda = 0)"
   ]
  },
  {
   "cell_type": "markdown",
   "metadata": {},
   "source": [
    "<b>3. Elastic Net Model </b>"
   ]
  },
  {
   "cell_type": "markdown",
   "metadata": {},
   "source": [
    "To find our elastic net model, we can loop through alpha values from 0.1 to 0.9 in increments of 0.05, the mind the "
   ]
  },
  {
   "cell_type": "code",
   "execution_count": 135,
   "metadata": {},
   "outputs": [
    {
     "data": {
      "text/html": [
       "<table>\n",
       "<thead><tr><th scope=col>x</th><th scope=col>y</th></tr></thead>\n",
       "<tbody>\n",
       "\t<tr><td>177.17240</td><td>0.10     </td></tr>\n",
       "\t<tr><td> 74.17962</td><td>0.15     </td></tr>\n",
       "\t<tr><td> 88.58620</td><td>0.20     </td></tr>\n",
       "\t<tr><td>123.84552</td><td>0.25     </td></tr>\n",
       "\t<tr><td> 53.81097</td><td>0.30     </td></tr>\n",
       "\t<tr><td> 97.08593</td><td>0.35     </td></tr>\n",
       "\t<tr><td> 64.26171</td><td>0.40     </td></tr>\n",
       "\t<tr><td> 82.87354</td><td>0.45     </td></tr>\n",
       "\t<tr><td> 56.42171</td><td>0.50     </td></tr>\n",
       "\t<tr><td> 26.74393</td><td>0.55     </td></tr>\n",
       "\t<tr><td> 22.33740</td><td>0.60     </td></tr>\n",
       "\t<tr><td> 52.27704</td><td>0.65     </td></tr>\n",
       "\t<tr><td> 30.48640</td><td>0.70     </td></tr>\n",
       "\t<tr><td> 10.22583</td><td>0.75     </td></tr>\n",
       "\t<tr><td> 32.13085</td><td>0.80     </td></tr>\n",
       "\t<tr><td> 48.15191</td><td>0.85     </td></tr>\n",
       "\t<tr><td> 31.34540</td><td>0.90     </td></tr>\n",
       "</tbody>\n",
       "</table>\n"
      ],
      "text/latex": [
       "\\begin{tabular}{r|ll}\n",
       " x & y\\\\\n",
       "\\hline\n",
       "\t 177.17240 & 0.10     \\\\\n",
       "\t  74.17962 & 0.15     \\\\\n",
       "\t  88.58620 & 0.20     \\\\\n",
       "\t 123.84552 & 0.25     \\\\\n",
       "\t  53.81097 & 0.30     \\\\\n",
       "\t  97.08593 & 0.35     \\\\\n",
       "\t  64.26171 & 0.40     \\\\\n",
       "\t  82.87354 & 0.45     \\\\\n",
       "\t  56.42171 & 0.50     \\\\\n",
       "\t  26.74393 & 0.55     \\\\\n",
       "\t  22.33740 & 0.60     \\\\\n",
       "\t  52.27704 & 0.65     \\\\\n",
       "\t  30.48640 & 0.70     \\\\\n",
       "\t  10.22583 & 0.75     \\\\\n",
       "\t  32.13085 & 0.80     \\\\\n",
       "\t  48.15191 & 0.85     \\\\\n",
       "\t  31.34540 & 0.90     \\\\\n",
       "\\end{tabular}\n"
      ],
      "text/markdown": [
       "\n",
       "x | y | \n",
       "|---|---|---|---|---|---|---|---|---|---|---|---|---|---|---|---|---|\n",
       "| 177.17240 | 0.10      | \n",
       "|  74.17962 | 0.15      | \n",
       "|  88.58620 | 0.20      | \n",
       "| 123.84552 | 0.25      | \n",
       "|  53.81097 | 0.30      | \n",
       "|  97.08593 | 0.35      | \n",
       "|  64.26171 | 0.40      | \n",
       "|  82.87354 | 0.45      | \n",
       "|  56.42171 | 0.50      | \n",
       "|  26.74393 | 0.55      | \n",
       "|  22.33740 | 0.60      | \n",
       "|  52.27704 | 0.65      | \n",
       "|  30.48640 | 0.70      | \n",
       "|  10.22583 | 0.75      | \n",
       "|  32.13085 | 0.80      | \n",
       "|  48.15191 | 0.85      | \n",
       "|  31.34540 | 0.90      | \n",
       "\n",
       "\n"
      ],
      "text/plain": [
       "   x         y   \n",
       "1  177.17240 0.10\n",
       "2   74.17962 0.15\n",
       "3   88.58620 0.20\n",
       "4  123.84552 0.25\n",
       "5   53.81097 0.30\n",
       "6   97.08593 0.35\n",
       "7   64.26171 0.40\n",
       "8   82.87354 0.45\n",
       "9   56.42171 0.50\n",
       "10  26.74393 0.55\n",
       "11  22.33740 0.60\n",
       "12  52.27704 0.65\n",
       "13  30.48640 0.70\n",
       "14  10.22583 0.75\n",
       "15  32.13085 0.80\n",
       "16  48.15191 0.85\n",
       "17  31.34540 0.90"
      ]
     },
     "metadata": {},
     "output_type": "display_data"
    }
   ],
   "source": [
    "a <- seq(0.1, 0.9, 0.05)\n",
    "vCount = 0\n",
    "datalist = list()\n",
    "for (i in a) {\n",
    "    vCount = vCount + 1\n",
    "    cv <- cv.glmnet(MatFactors, MatResponse, family = 'gaussian', nfold = 4, type.measure = 'mse', alpha = i)\n",
    "    #TestModel[''] = cv$cvm[cv$lambda == cv$lambda.1se], lambda.1se = cv$lambda.1se, alpha = i)\n",
    "    #TestModel <- cv$cvm[cv$lambda == cv$lambda.1se], lambda.1se = cv$lambda.1se, alpha = i)\n",
    "    datapoint <- data.frame(x=cv$lambda.1se, y=i)\n",
    "    datalist[[vCount]] <- datapoint\n",
    "    }\n",
    "big_data = do.call(rbind, datalist)\n",
    "big_data\n",
    "#cvMin <- search[search$cvm == min(search$cvm), ]\n",
    "#md3 <- glmnet(MatFactors, MatResponse, family = 'gaussian', nfold = 4, type.measure= 'mse',\n",
    " #             lambda = cvMin$lambda.1se, alpha = cvMin$alpha)\n",
    "#coef(md3)"
   ]
  },
  {
   "cell_type": "markdown",
   "metadata": {},
   "source": [
    "So, we can see from the above table that the ideal $\\alpha$ value to select is 0.75 for our Elastic Model"
   ]
  },
  {
   "cell_type": "code",
   "execution_count": 138,
   "metadata": {},
   "outputs": [
    {
     "data": {
      "image/png": "[encoded data removed]",
      "text/plain": [
       "plot without title"
      ]
     },
     "metadata": {},
     "output_type": "display_data"
    }
   ],
   "source": [
    "ElasticModel <- cv.glmnet(MatFactors, MatResponse, family = 'gaussian', nfold = 4, type.measure = 'mse', alpha = 0.75)\n",
    "plot(ElasticModel)"
   ]
  },
  {
   "cell_type": "code",
   "execution_count": 139,
   "metadata": {},
   "outputs": [
    {
     "name": "stdout",
     "output_type": "stream",
     "text": [
      "[1] \"Minimum Mean-Squared Error:\"\n"
     ]
    },
    {
     "data": {
      "text/html": [
       "68150.3152802692"
      ],
      "text/latex": [
       "68150.3152802692"
      ],
      "text/markdown": [
       "68150.3152802692"
      ],
      "text/plain": [
       "[1] 68150.32"
      ]
     },
     "metadata": {},
     "output_type": "display_data"
    },
    {
     "name": "stdout",
     "output_type": "stream",
     "text": [
      "[1] \"\"\n"
     ]
    },
    {
     "data": {
      "text/plain": [
       "16 x 1 sparse Matrix of class \"dgCMatrix\"\n",
       "                     1\n",
       "(Intercept) 905.085106\n",
       "So            .       \n",
       "M            36.972578\n",
       "Ed            .       \n",
       "Po1         216.434668\n",
       "Po2          43.279302\n",
       "LF            .       \n",
       "M.F          49.939212\n",
       "Pop           .       \n",
       "NW            7.551339\n",
       "U1            .       \n",
       "U2            .       \n",
       "Wealth        .       \n",
       "Ineq         61.655085\n",
       "Prob        -49.337125\n",
       "Time          .       "
      ]
     },
     "metadata": {},
     "output_type": "display_data"
    }
   ],
   "source": [
    "print('Minimum Mean-Squared Error:')\n",
    "ElasticModel$cvm[which(ElasticModel$lambda == ElasticModel$lambda.min)]\n",
    "print('')\n",
    "coef(ElasticModel)"
   ]
  },
  {
   "cell_type": "markdown",
   "metadata": {},
   "source": [
    "So, we can see our Elastic Model produces a significantly better fit by fitting only 7 variables, instead of 9 from the LASSO Model."
   ]
  },
  {
   "cell_type": "markdown",
   "metadata": {},
   "source": [
    "<b>Conclusion:</b> <br>\n",
    "Comparing the MSE across all three models, we can see that the simple stepwise analysis produced the model with the least error compared to the best of the more complex models, the Elastic Net model with an $\\alpha=0.75$. Although the error is much lower, it is possible this is simply due to remaining overfitting in the model and the Elastic Model found truly models the data most correctly, though since there is relatively few data points really all these models are kind of garbage."
   ]
  },
  {
   "cell_type": "code",
   "execution_count": null,
   "metadata": {},
   "outputs": [],
   "source": []
  }
 ],
 "metadata": {
  "kernelspec": {
   "display_name": "R",
   "language": "R",
   "name": "ir"
  },
  "language_info": {
   "codemirror_mode": "r",
   "file_extension": ".r",
   "mimetype": "text/x-r-source",
   "name": "R",
   "pygments_lexer": "r",
   "version": "3.4.3"
  }
 },
 "nbformat": 4,
 "nbformat_minor": 2
}
