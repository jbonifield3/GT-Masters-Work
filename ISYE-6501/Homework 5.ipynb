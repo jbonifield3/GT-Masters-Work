{
 "cells": [
  {
   "cell_type": "markdown",
   "metadata": {
    "collapsed": true
   },
   "source": [
    "<b><center> Homework 5 </center></b>\n",
    "<br>\n",
    "<b><center> James Bonifield </center></b>\n",
    "<br>\n",
    "<br>\n",
    "<b>Question 8.1</b><br>\n",
    "Describe a situation or problem from your job, everyday life, current events, etc., for which a linear\n",
    "regression model would be appropriate. List some (up to 5) predictors that you might use. <br>\n",
    "\n",
    "As a manufacturing engineer, you may have an assembly line or workflow where the quality (defined as the % of rejects) of a fixed process is governed by a number of factors such as:\n",
    "- Speed/Output of the line\n",
    "- Number of workers checking quality along the line\n",
    "- Number of Q/A sensors\n",
    "- Number of steps in the workflow\n",
    "- Number of parts of object\n",
    "\n",
    "A regression model would allow you to predict the effect on line quality by adding sensors or to predict the potential impact of adding or decreasing workers based on the complexity of the line."
   ]
  },
  {
   "cell_type": "markdown",
   "metadata": {},
   "source": [
    "<b>Question 8.2</b><br>\n",
    "Using crime data from http://www.statsci.org/data/general/uscrime.txt (description at\n",
    "http://www.statsci.org/data/general/uscrime.html ), use regression (a useful R function is lm or glm) to\n",
    "predict the observed crime rate in a city with the following data:\n",
    "<br>\n",
    "M = 14.0<br>\n",
    "So = 0<br>\n",
    "Ed = 10.0<br>\n",
    "Po1 = 12.0<br>\n",
    "Po2 = 15.5<br>\n",
    "LF = 0.640<br>\n",
    "M.F = 94.0<br>\n",
    "Pop = 150<br>\n",
    "NW = 1.1<br>\n",
    "U1 = 0.120<br>\n",
    "U2 = 3.6<br>\n",
    "Wealth = 3200<br>\n",
    "Ineq = 20.1<br>\n",
    "Prob = 0.04<br>\n",
    "Time = 39.0<br>\n",
    "Show your model (factors used and their coefficients), the software output, and the quality of fit.\n",
    "Note that because there are only 47 data points and 15 predictors, you’ll probably notice some\n",
    "overfitting. We’ll see ways of dealing with this sort of problem later in the course."
   ]
  },
  {
   "cell_type": "markdown",
   "metadata": {},
   "source": [
    "<b>First, we'll load the data, then generate a linear regression model </b>"
   ]
  },
  {
   "cell_type": "code",
   "execution_count": 39,
   "metadata": {},
   "outputs": [
    {
     "name": "stdout",
     "output_type": "stream",
     "text": [
      " [1]   14.00    0.00   10.00   12.00   15.50    0.64   94.00  150.00    1.10\n",
      "[10]    0.12    3.60 3200.00   20.10    0.04   39.00\n"
     ]
    }
   ],
   "source": [
    "library(tidyverse)\n",
    "library(broom)\n",
    "dfCrime <- suppressMessages((read_tsv('uscrime.txt')))\n",
    "DataPoint <- c(14.0,0.0,10.0,12.0,15.5,0.640,94.0,150.0,1.1,0.120,3.6,3200.0,20.1,0.04,39.0)\n",
    "print(DataPoint2)"
   ]
  },
  {
   "cell_type": "code",
   "execution_count": 2,
   "metadata": {},
   "outputs": [
    {
     "data": {
      "text/html": [
       "<ol class=list-inline>\n",
       "\t<li>'tbl_df'</li>\n",
       "\t<li>'tbl'</li>\n",
       "\t<li>'data.frame'</li>\n",
       "</ol>\n"
      ],
      "text/latex": [
       "\\begin{enumerate*}\n",
       "\\item 'tbl\\_df'\n",
       "\\item 'tbl'\n",
       "\\item 'data.frame'\n",
       "\\end{enumerate*}\n"
      ],
      "text/markdown": [
       "1. 'tbl_df'\n",
       "2. 'tbl'\n",
       "3. 'data.frame'\n",
       "\n",
       "\n"
      ],
      "text/plain": [
       "[1] \"tbl_df\"     \"tbl\"        \"data.frame\""
      ]
     },
     "metadata": {},
     "output_type": "display_data"
    }
   ],
   "source": [
    "class(dfCrime[,16])"
   ]
  },
  {
   "cell_type": "code",
   "execution_count": 4,
   "metadata": {},
   "outputs": [
    {
     "name": "stdout",
     "output_type": "stream",
     "text": [
      "# A tibble: 47 x 15\n",
      "       M    So    Ed   Po1   Po2    LF   M.F   Pop    NW     U1    U2 Wealth\n",
      "   <dbl> <int> <dbl> <dbl> <dbl> <dbl> <dbl> <int> <dbl>  <dbl> <dbl>  <int>\n",
      " 1  15.1     1  9.10  5.80  5.60 0.510  95.0    33 30.1  0.108   4.10   3940\n",
      " 2  14.3     0 11.3  10.3   9.50 0.583 101      13 10.2  0.0960  3.60   5570\n",
      " 3  14.2     1  8.90  4.50  4.40 0.533  96.9    18 21.9  0.0940  3.30   3180\n",
      " 4  13.6     0 12.1  14.9  14.1  0.577  99.4   157  8.00 0.102   3.90   6730\n",
      " 5  14.1     0 12.1  10.9  10.1  0.591  98.5    18  3.00 0.0910  2.00   5780\n",
      " 6  12.1     0 11.0  11.8  11.5  0.547  96.4    25  4.40 0.0840  2.90   6890\n",
      " 7  12.7     1 11.1   8.20  7.90 0.519  98.2     4 13.9  0.0970  3.80   6200\n",
      " 8  13.1     1 10.9  11.5  10.9  0.542  96.9    50 17.9  0.0790  3.50   4720\n",
      " 9  15.7     1  9.00  6.50  6.20 0.553  95.5    39 28.6  0.0810  2.80   4210\n",
      "10  14.0     0 11.8   7.10  6.80 0.632 103       7  1.50 0.100   2.40   5260\n",
      "# ... with 37 more rows, and 3 more variables: Ineq <dbl>, Prob <dbl>,\n",
      "#   Time <dbl>\n"
     ]
    }
   ],
   "source": [
    "factors <- dfCrime[,-16]\n",
    "print(factors)"
   ]
  },
  {
   "cell_type": "code",
   "execution_count": 8,
   "metadata": {},
   "outputs": [
    {
     "name": "stdout",
     "output_type": "stream",
     "text": [
      "          term      estimate    std.error   statistic      p.value\n",
      "1  (Intercept) -5.984288e+03 1628.3183733 -3.67513362 0.0008929887\n",
      "2            M  8.783017e+01   41.7138664  2.10553902 0.0434433942\n",
      "3           So -3.803450e+00  148.7551399 -0.02556853 0.9797653725\n",
      "4           Ed  1.883243e+02   62.0883761  3.03316541 0.0048614327\n",
      "5          Po1  1.928043e+02  106.1096757  1.81702882 0.0788919769\n",
      "6          Po2 -1.094219e+02  117.4775356 -0.93142851 0.3588295738\n",
      "7           LF -6.638261e+02 1469.7288208 -0.45166573 0.6546540941\n",
      "8          M.F  1.740686e+01   20.3538427  0.85521225 0.3989953316\n",
      "9          Pop -7.330081e-01    1.2895554 -0.56841928 0.5738452309\n",
      "10          NW  4.204461e+00    6.4808922  0.64874725 0.5212791189\n",
      "11          U1 -5.827103e+03 4210.2890365 -1.38401489 0.1762380311\n",
      "12          U2  1.677997e+02   82.3359552  2.03798780 0.0501612829\n",
      "13      Wealth  9.616624e-02    0.1036661  0.92765416 0.3607537824\n",
      "14        Ineq  7.067210e+01   22.7165213  3.11104410 0.0039831365\n",
      "15        Prob -4.855266e+03 2272.3746212 -2.13664850 0.0406269260\n",
      "16        Time -3.479018e+00    7.1652752 -0.48553862 0.6307084351\n",
      "'data.frame':\t16 obs. of  5 variables:\n",
      " $ term     : chr  \"(Intercept)\" \"M\" \"So\" \"Ed\" ...\n",
      " $ estimate : num  -5984.3 87.8 -3.8 188.3 192.8 ...\n",
      " $ std.error: num  1628.3 41.7 148.8 62.1 106.1 ...\n",
      " $ statistic: num  -3.6751 2.1055 -0.0256 3.0332 1.817 ...\n",
      " $ p.value  : num  0.000893 0.043443 0.979765 0.004861 0.078892 ...\n"
     ]
    }
   ],
   "source": [
    "lm.Data <- tidy(lm(Crime~. , data=dfCrime))\n",
    "print(lm.Data)\n",
    "str(lm.Data)"
   ]
  },
  {
   "cell_type": "code",
   "execution_count": 25,
   "metadata": {},
   "outputs": [
    {
     "name": "stdout",
     "output_type": "stream",
     "text": [
      "[1] 155.4349\n"
     ]
    }
   ],
   "source": [
    "estimate <- c()\n",
    "#It's late and I was having trouble with row by row multiplication so I took the\n",
    "#Lazy way out with a loop\n",
    "\n",
    "#Note we do i+1 on the lm.Data$estimate term because the first term is the intercept\n",
    "for (i in 1:length(DataPoint)){\n",
    "    estimate[i] <- lm.Data$estimate[i+1] * DataPoint[i]\n",
    "}\n",
    "# Add intercept and sum\n",
    "EstimatedCrime <- sum(estimate) +lm.Data$estimate[1]\n",
    "print(EstimatedCrime)"
   ]
  },
  {
   "cell_type": "markdown",
   "metadata": {},
   "source": [
    "<b>So, with an estimate of ~155 we see that the results are on the low end of the data set, and that although plausible are almost certainly wrong, if only because of the ridiculouly high p-values for some of the terms. Taking a look at just the terms with a p-value greater than 50% (50% chance of being 0, i.e. very unreliable):</b>"
   ]
  },
  {
   "cell_type": "code",
   "execution_count": 26,
   "metadata": {},
   "outputs": [
    {
     "data": {
      "text/html": [
       "<ol class=list-inline>\n",
       "\t<li>'So'</li>\n",
       "\t<li>'LF'</li>\n",
       "\t<li>'Pop'</li>\n",
       "\t<li>'NW'</li>\n",
       "\t<li>'Time'</li>\n",
       "</ol>\n"
      ],
      "text/latex": [
       "\\begin{enumerate*}\n",
       "\\item 'So'\n",
       "\\item 'LF'\n",
       "\\item 'Pop'\n",
       "\\item 'NW'\n",
       "\\item 'Time'\n",
       "\\end{enumerate*}\n"
      ],
      "text/markdown": [
       "1. 'So'\n",
       "2. 'LF'\n",
       "3. 'Pop'\n",
       "4. 'NW'\n",
       "5. 'Time'\n",
       "\n",
       "\n"
      ],
      "text/plain": [
       "[1] \"So\"   \"LF\"   \"Pop\"  \"NW\"   \"Time\""
      ]
     },
     "metadata": {},
     "output_type": "display_data"
    }
   ],
   "source": [
    "lm.Data$term[lm.Data$p.value > 0.50]"
   ]
  },
  {
   "cell_type": "markdown",
   "metadata": {},
   "source": [
    "<b>Let's repeat the regression without these garbage terms</b>"
   ]
  },
  {
   "cell_type": "code",
   "execution_count": 46,
   "metadata": {},
   "outputs": [
    {
     "name": "stdout",
     "output_type": "stream",
     "text": [
      "          term      estimate    std.error  statistic      p.value\n",
      "1  (Intercept) -6.647933e+03 1.306233e+03 -5.0893923 1.142958e-05\n",
      "2            M  9.956955e+01 3.467473e+01  2.8715303 6.804061e-03\n",
      "3           Ed  1.747036e+02 5.487589e+01  3.1836130 2.996473e-03\n",
      "4          Po1  1.477707e+02 9.135525e+01  1.6175391 1.144920e-01\n",
      "5          Po2 -5.669956e+01 9.756414e+01 -0.5811517 5.647593e-01\n",
      "6          M.F  1.909840e+01 1.416762e+01  1.3480315 1.860699e-01\n",
      "7           U1 -5.461939e+03 3.458023e+03 -1.5794975 1.229696e-01\n",
      "8           U2  1.722450e+02 7.534296e+01  2.2861464 2.823478e-02\n",
      "9       Wealth  7.600636e-02 9.411636e-02  0.8075786 4.246373e-01\n",
      "10        Ineq  6.954071e+01 1.827092e+01  3.8060861 5.287499e-04\n",
      "11        Prob -3.463072e+03 1.555128e+03 -2.2268725 3.230039e-02\n",
      " [1]   14.00   10.00   12.00   15.50   94.00    1.10    3.60 3200.00   20.10\n",
      "[10]    0.04\n"
     ]
    }
   ],
   "source": [
    "dfCrimeTrim <- dfCrime\n",
    "DataPoint2 <- DataPoint\n",
    "\n",
    "DataPoint2 <- DataPoint2[-15]\n",
    "DataPoint2 <- DataPoint2[-8]\n",
    "DataPoint2 <- DataPoint2[-9]\n",
    "DataPoint2 <- DataPoint2[-6]\n",
    "DataPoint2 <- DataPoint2[-2]\n",
    "dfCrimeTrim$So <- NULL\n",
    "\n",
    "dfCrimeTrim$LF <- NULL\n",
    "\n",
    "dfCrimeTrim$Pop <- NULL\n",
    "\n",
    "dfCrimeTrim$NW <- NULL\n",
    "\n",
    "dfCrimeTrim$Time <- NULL\n",
    "\n",
    "lm.Data2 <- tidy(lm(Crime~. , data=dfCrimeTrim))\n",
    "print(lm.Data2)\n",
    "print(DataPoint2)"
   ]
  },
  {
   "cell_type": "code",
   "execution_count": 52,
   "metadata": {},
   "outputs": [
    {
     "name": "stdout",
     "output_type": "stream",
     "text": [
      "[1] 1945.079\n"
     ]
    }
   ],
   "source": [
    "estimate2 <- c()\n",
    "#It's late and I was having trouble with row by row multiplication so I took the\n",
    "#Lazy way out with a loop\n",
    "\n",
    "#Note we do i+1 on the lm.Data$estimate term because the first term is the intercept\n",
    "for (i in 1:length(DataPoint2)){\n",
    "    estimate2[i] <- lm.Data2$estimate[i+1] * DataPoint2[i]\n",
    "}\n",
    "EstimatedCrime2 <- sum(estimate2)\n",
    "print(EstimatedCrime2)"
   ]
  },
  {
   "cell_type": "markdown",
   "metadata": {},
   "source": [
    "<b>So, we get a value of 1945, which is also plausible but this time on the high end. Because we have so many factors, we are going to experience overfitting, but that is just sort of the name of the game unless we apply a more advanced validation of these linear regression models.</b>"
   ]
  }
 ],
 "metadata": {
  "kernelspec": {
   "display_name": "R",
   "language": "R",
   "name": "r"
  },
  "language_info": {
   "codemirror_mode": "r",
   "file_extension": ".r",
   "mimetype": "text/x-r-source",
   "name": "R",
   "pygments_lexer": "r",
   "version": "3.4.1"
  }
 },
 "nbformat": 4,
 "nbformat_minor": 2
}
